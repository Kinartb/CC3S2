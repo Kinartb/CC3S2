{
 "cells": [
  {
   "cell_type": "code",
   "execution_count": 1,
   "id": "b4aa19b3-0855-4382-8266-53d945e9f410",
   "metadata": {},
   "outputs": [
    {
     "data": {
      "text/plain": [
       "true"
      ]
     },
     "execution_count": 1,
     "metadata": {},
     "output_type": "execute_result"
    }
   ],
   "source": [
    "\n",
    "require 'rspec'"
   ]
  },
  {
   "cell_type": "code",
   "execution_count": 5,
   "id": "96f8e942-e3a4-4801-843e-958847692dc8",
   "metadata": {},
   "outputs": [
    {
     "data": {
      "text/plain": [
       ":test_making_order"
      ]
     },
     "execution_count": 5,
     "metadata": {},
     "output_type": "execute_result"
    }
   ],
   "source": [
    "\n",
    "def test_making_order\n",
    "  book = Book.new(:title => \"RSpec Intro\", :price => 20)\n",
    "  customer = Customer.new\n",
    "  order = Order.new(customer, book)\n",
    "\n",
    "  order.submit\n",
    "\n",
    "  assert(customer.orders.last == order)\n",
    "  assert(customer.ordered_books.last == book)\n",
    "  assert(order.complete?)\n",
    "  assert(!order.shipped?)\n",
    "end\n",
    "     "
   ]
  },
  {
   "cell_type": "code",
   "execution_count": 11,
   "id": "9705aa82-8b0d-422d-9124-dbe57dc136ae",
   "metadata": {},
   "outputs": [
    {
     "data": {
      "text/plain": [
       "RSpec::ExampleGroups::Class0x000055f05497b518Order_3"
      ]
     },
     "execution_count": 11,
     "metadata": {},
     "output_type": "execute_result"
    }
   ],
   "source": [
    "require 'rspec'\n",
    "RSpec.describe Order do\n",
    "  describe \"#submit\" do\n",
    "\n",
    "    before do\n",
    "      @book = Book.new(:title => \"RSpec Intro\", :price => 20)\n",
    "      @customer = Customer.new\n",
    "      @order = Order.new(@customer, @book)\n",
    "\n",
    "      @order.submit\n",
    "    end\n",
    "\n",
    "   describe \"customer\" do\n",
    "     it \"puts the ordered book in customer's order history\" do\n",
    "       expect(@customer.orders).to include(@order)\n",
    "       expect(@customer.ordered_books).to include(@book)\n",
    "     end\n",
    "   end\n",
    "\n",
    "   describe \"order\" do\n",
    "     it \"is marked as complete\" do\n",
    "       expect(@order).to be_complete\n",
    "     end\n",
    "\n",
    "     it \"is not yet shipped\" do\n",
    "       expect(@order).not_to be_shipped\n",
    "     end\n",
    "   end\n",
    "  end\n",
    "end"
   ]
  },
  {
   "cell_type": "code",
   "execution_count": null,
   "id": "669197c4-4f78-486e-b6f2-4bec2e1a57d4",
   "metadata": {},
   "outputs": [],
   "source": []
  }
 ],
 "metadata": {
  "kernelspec": {
   "display_name": "Ruby 3.0.2",
   "language": "ruby",
   "name": "ruby"
  },
  "language_info": {
   "file_extension": ".rb",
   "mimetype": "application/x-ruby",
   "name": "ruby",
   "version": "3.0.2"
  }
 },
 "nbformat": 4,
 "nbformat_minor": 5
}
