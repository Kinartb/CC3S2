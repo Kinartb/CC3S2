{
 "cells": [
  {
   "cell_type": "code",
   "execution_count": 5,
   "id": "2cb8f1db-ad8e-48a3-a3c5-9e802722f6f0",
   "metadata": {},
   "outputs": [
    {
     "data": {
      "text/plain": [
       "RSpec::ExampleGroups::Class0x0000564689214370StringCalculator_5"
      ]
     },
     "execution_count": 5,
     "metadata": {},
     "output_type": "execute_result"
    }
   ],
   "source": [
    "require 'rspec'\n",
    "class StringCalculator\n",
    "end\n",
    "RSpec.describe StringCalculator do\n",
    "end"
   ]
  },
  {
   "cell_type": "code",
   "execution_count": 6,
   "id": "cc17f14d-e8b9-412a-bf50-1e793d088ef9",
   "metadata": {},
   "outputs": [
    {
     "data": {
      "text/plain": [
       "RSpec::ExampleGroups::Class0x0000564689214370StringCalculator_6"
      ]
     },
     "execution_count": 6,
     "metadata": {},
     "output_type": "execute_result"
    }
   ],
   "source": [
    "class StringCalculator\n",
    "\n",
    "  def self.add(input)\n",
    "    0\n",
    "  end\n",
    "end\n",
    "require 'rspec'\n",
    "RSpec.describe StringCalculator do\n",
    "\n",
    "  describe \".add\" do\n",
    "    context \"given an empty string\" do\n",
    "      it \"returns zero\" do\n",
    "        expect(StringCalculator.add(\"\")).to eq(0)\n",
    "      end\n",
    "    end\n",
    "  end\n",
    "end\n",
    "     \n",
    "\n"
   ]
  },
  {
   "cell_type": "code",
   "execution_count": 7,
   "id": "ee655bea-4563-41f5-ad2b-dd2c4efcbc45",
   "metadata": {},
   "outputs": [
    {
     "data": {
      "text/plain": [
       "RSpec::ExampleGroups::Class0x0000564689214370StringCalculator_7"
      ]
     },
     "execution_count": 7,
     "metadata": {},
     "output_type": "execute_result"
    }
   ],
   "source": [
    "require 'rspec'\n",
    "class StringCalculator\n",
    "\n",
    "  def self.add(input)\n",
    "    if input.empty?\n",
    "      0\n",
    "    else\n",
    "      input.to_i\n",
    "    end\n",
    "  end\n",
    "end\n",
    "RSpec.describe StringCalculator do\n",
    "\n",
    "  describe \".add\" do\n",
    "    context \"given '4'\" do\n",
    "      it \"returns 4\" do\n",
    "        expect(StringCalculator.add(\"4\")).to eql(4)\n",
    "      end\n",
    "    end\n",
    "\n",
    "    context \"given '10'\" do\n",
    "      it \"returns 10\" do\n",
    "        expect(StringCalculator.add(\"10\")).to eql(10)\n",
    "      end\n",
    "    end\n",
    "  end\n",
    "end"
   ]
  },
  {
   "cell_type": "code",
   "execution_count": 8,
   "id": "167b9e00-55bc-40e0-a4ac-0d97a0ec2c75",
   "metadata": {
    "editable": true,
    "slideshow": {
     "slide_type": ""
    },
    "tags": []
   },
   "outputs": [
    {
     "data": {
      "text/plain": [
       "RSpec::ExampleGroups::Class0x0000564689214370StringCalculator_8"
      ]
     },
     "execution_count": 8,
     "metadata": {},
     "output_type": "execute_result"
    }
   ],
   "source": [
    "class StringCalculator\n",
    "\n",
    "  def self.add(input)\n",
    "    if input.empty?\n",
    "      0\n",
    "    else\n",
    "      numbers = input.split(\",\").map { |num| num.to_i }\n",
    "      numbers.inject(0) { |sum, number| sum + number }\n",
    "    end\n",
    "  end\n",
    "end\n",
    "RSpec.describe StringCalculator do\n",
    "\n",
    "  describe \".add\" do\n",
    "    context \"two numbers\" do\n",
    "      context \"given '2,4'\" do\n",
    "        it \"returns 6\" do\n",
    "          expect(StringCalculator.add(\"2,4\")).to eql(6)\n",
    "        end\n",
    "      end\n",
    "\n",
    "      context \"given '17,100'\" do\n",
    "        it \"returns 117\" do\n",
    "          expect(StringCalculator.add(\"17,100\")).to eql(117)\n",
    "        end\n",
    "      end\n",
    "    end\n",
    "  end\n",
    "end"
   ]
  },
  {
   "cell_type": "code",
   "execution_count": null,
   "id": "87c98754-5f8e-4d8a-8d3c-1c5967af3246",
   "metadata": {},
   "outputs": [],
   "source": []
  }
 ],
 "metadata": {
  "kernelspec": {
   "display_name": "Ruby 3.0.2",
   "language": "ruby",
   "name": "ruby"
  },
  "language_info": {
   "file_extension": ".rb",
   "mimetype": "application/x-ruby",
   "name": "ruby",
   "version": "3.0.2"
  }
 },
 "nbformat": 4,
 "nbformat_minor": 5
}
