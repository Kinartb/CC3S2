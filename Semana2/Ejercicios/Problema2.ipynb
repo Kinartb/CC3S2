{
 "cells": [
  {
   "cell_type": "code",
   "execution_count": 35,
   "metadata": {},
   "outputs": [
    {
     "name": "stdout",
     "output_type": "stream",
     "text": [
      "Resultado de foo: 15\n",
      "Resultado de bar: {:a=>150, :c=>200}\n"
     ]
    }
   ],
   "source": [
    "# Método foo\n",
    "def foo(arr)\n",
    "  arr.inject(0) { |res, n| res + n }\n",
    "end\n",
    "\n",
    "# Método bar\n",
    "def bar(hsh)\n",
    "  hsh.select { |k, v| v > 100 }\n",
    "end\n",
    "\n",
    "# Ejemplos\n",
    "arr = [1, 2, 3, 4, 5]\n",
    "hsh = { a: 150, b: 80, c: 200, d: 90 }\n",
    "\n",
    "resultado_foo = foo(arr)\n",
    "resultado_bar = bar(hsh)\n",
    "\n",
    "puts \"Resultado de foo: #{resultado_foo}\"\n",
    "puts \"Resultado de bar: #{resultado_bar}\"\n",
    "\n",
    "\n",
    "\n"
   ]
  },
  {
   "cell_type": "code",
   "execution_count": null,
   "metadata": {},
   "outputs": [],
   "source": []
  }
 ],
 "metadata": {
  "kernelspec": {
   "display_name": "Ruby 3.1.3",
   "language": "ruby",
   "name": "ruby"
  },
  "language_info": {
   "file_extension": ".rb",
   "mimetype": "application/x-ruby",
   "name": "ruby",
   "version": "3.1.3"
  },
  "toc": {
   "nav_menu": {},
   "number_sections": true,
   "sideBar": true,
   "skip_h1_title": false,
   "toc_cell": false,
   "toc_position": {},
   "toc_section_display": "block",
   "toc_window_display": false
  }
 },
 "nbformat": 4,
 "nbformat_minor": 2
}
