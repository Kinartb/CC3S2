{
 "cells": [
  {
   "cell_type": "code",
   "execution_count": 45,
   "metadata": {},
   "outputs": [
    {
     "name": "stdout",
     "output_type": "stream",
     "text": [
      "Sin nil: [\"cerro\", \"uni\", \"\", \"cima\", \"moto\", \"solsito\"]\n",
      "Sin vacíos ni nil: [\"cerro\", \"uni\", \"cima\", \"moto\", \"solsito\"]\n",
      "Tres letras: [\"uni\"]\n",
      "Con vocales: [\"cerro\", \"uni\", \"cima\", \"moto\", \"solsito\"]\n",
      "Concatenación: cerrounicimamotosolsito\n"
     ]
    }
   ],
   "source": [
    "# Definir un arreglo con elementos (cadenas y nil)\n",
    "palabras = [\"cerro\", nil, \"uni\", \"\", \"cima\", \"moto\", nil, \"solsito\"]\n",
    "\n",
    "# Elimina elementos nil\n",
    "sin_nil = palabras.compact\n",
    "\n",
    "# Elimina elementos de cadena vacíos y nil\n",
    "sin_vacios_nil = palabras.reject { |palabra| palabra.nil? || palabra.empty? }\n",
    "\n",
    "# Palabras con exactamente 3 letras sin nil\n",
    "tres_letras = palabras.select { |palabra| palabra && palabra.length == 3 }\n",
    "\n",
    "# Palabras con al menos una vocal sin nil\n",
    "con_vocales = palabras.select { |palabra| palabra && palabra.match(/[aeiou]/) }\n",
    "\n",
    "# Concatenación de palabras sin nil\n",
    "concatenacion = palabras.compact.join\n",
    "\n",
    "# Imprime los resultados\n",
    "puts \"Sin nil: #{sin_nil}\"\n",
    "puts \"Sin vacíos ni nil: #{sin_vacios_nil}\"\n",
    "puts \"Tres letras: #{tres_letras}\"\n",
    "puts \"Con vocales: #{con_vocales}\"\n",
    "puts \"Concatenación: #{concatenacion}\"\n"
   ]
  },
  {
   "cell_type": "code",
   "execution_count": null,
   "metadata": {},
   "outputs": [],
   "source": []
  }
 ],
 "metadata": {
  "kernelspec": {
   "display_name": "Ruby 3.1.3",
   "language": "ruby",
   "name": "ruby"
  },
  "language_info": {
   "file_extension": ".rb",
   "mimetype": "application/x-ruby",
   "name": "ruby",
   "version": "3.1.3"
  },
  "toc": {
   "nav_menu": {},
   "number_sections": true,
   "sideBar": true,
   "skip_h1_title": false,
   "toc_cell": false,
   "toc_position": {},
   "toc_section_display": "block",
   "toc_window_display": false
  }
 },
 "nbformat": 4,
 "nbformat_minor": 2
}
